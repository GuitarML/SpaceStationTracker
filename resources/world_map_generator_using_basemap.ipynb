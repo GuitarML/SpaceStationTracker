{
  "cells": [
    {
      "cell_type": "code",
      "source": [
        "# Needed to install Basemap\n",
        "!apt-get install libgeos-3.5.0\n",
        "!apt-get install libgeos-dev\n",
        "!pip install https://github.com/matplotlib/basemap/archive/master.zip"
      ],
      "metadata": {
        "id": "lGQAA8uitxYd"
      },
      "execution_count": null,
      "outputs": []
    },
    {
      "cell_type": "code",
      "source": [
        "# Have to specify old version (according to https://stackoverflow.com/questions/54613992/how-to-install-and-use-basemap-on-google-colab)\n",
        "!pip install pyproj==1.9.6"
      ],
      "metadata": {
        "id": "Xh78IfsytxTc"
      },
      "execution_count": null,
      "outputs": []
    },
    {
      "cell_type": "code",
      "source": [
        "import matplotlib.pyplot as plt\n",
        "from mpl_toolkits.basemap import Basemap\n",
        "\n",
        "# Desired pixel dimensions\n",
        "#pixel_width = 640  # for using two sections of earthmap\n",
        "#pixel_height = 240\n",
        "pixel_width = 320\n",
        "pixel_height = 240\n",
        "\n",
        "# Desired DPI (e.g., 100)\n",
        "dpi = 100\n",
        "\n",
        "# Calculate figsize in inches\n",
        "figsize_width = pixel_width / dpi\n",
        "figsize_height = pixel_height / dpi\n",
        "\n",
        "# Create the figure with the calculated figsize and specified dpi\n",
        "fig = plt.figure(figsize=(figsize_width, figsize_height), dpi=dpi)\n",
        "ax = fig.add_subplot(111)\n",
        "fig.subplots_adjust(left=0, right=1, top=1, bottom=0) # Remove padding around subplots\n",
        "# Initialize Basemap\n",
        "m = Basemap(projection='merc', llcrnrlat=-80, urcrnrlat=80, \\\n",
        "            llcrnrlon=-180, urcrnrlon=180, lat_ts=20, resolution='l', ax=ax)\n",
        "\n",
        "# The ISS orbits at inclination of 51.6 degrees. Limit map latitudes to not\n",
        "#   show polar regions that the ISS doesn't fly over.\n",
        "#m = Basemap(projection='merc', llcrnrlat=-58, urcrnrlat=58, \\\n",
        "#            llcrnrlon=-180, urcrnrlon=180, lat_ts=20, resolution='l', ax=ax)\n",
        "\n",
        "m.bluemarble()\n",
        "\n",
        "ax.spines['top'].set_visible(False)\n",
        "ax.spines['right'].set_visible(False)\n",
        "ax.spines['left'].set_visible(False)\n",
        "ax.spines['bottom'].set_visible(False)\n",
        "\n",
        "plt.savefig('my_map.png', dpi=dpi)\n",
        "plt.show()\n",
        "\n",
        "# Note: Seems to add a white border no matter what,\n",
        "#      I used Paint3D to stretch to desired 320x240 dimensions and remove white border."
      ],
      "metadata": {
        "id": "Vxl_fwlzvpJX"
      },
      "execution_count": null,
      "outputs": []
    }
  ],
  "metadata": {
    "colab": {
      "name": "Welcome To Colab",
      "provenance": []
    },
    "kernelspec": {
      "display_name": "Python 3",
      "name": "python3"
    }
  },
  "nbformat": 4,
  "nbformat_minor": 0
}